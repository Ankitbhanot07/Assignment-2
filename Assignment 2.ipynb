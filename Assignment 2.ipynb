{
 "cells": [
  {
   "cell_type": "markdown",
   "id": "f71fa02c",
   "metadata": {},
   "source": [
    "Q1 :   What are the two values of the Boolean data type? How do you write them?"
   ]
  },
  {
   "cell_type": "markdown",
   "id": "fcc6852f",
   "metadata": {},
   "source": [
    "Ans1 : True and False in which first letter is in upper case and rest of in lower case."
   ]
  },
  {
   "cell_type": "code",
   "execution_count": null,
   "id": "371f2bac",
   "metadata": {},
   "outputs": [],
   "source": [
    "Q2 :   What are the three different types of Boolean operators?"
   ]
  },
  {
   "cell_type": "markdown",
   "id": "6ade60b9",
   "metadata": {},
   "source": [
    "Ans2 : and , or , and not"
   ]
  },
  {
   "cell_type": "markdown",
   "id": "7c758d4d",
   "metadata": {},
   "source": [
    "Q3 :   Make a list of each Boolean operator truth tables (i.e. every possible combination of Boolean\n",
    "       values for the operator and what it evaluate )."
   ]
  },
  {
   "cell_type": "markdown",
   "id": "20a53319",
   "metadata": {},
   "source": [
    "Ans3 :  True or True    =  True     \n",
    "        True or False   =  True\n",
    "        False or True   =  True                   \n",
    "        False or False  =  False\n",
    "        True and False  =  False                         \n",
    "        False and True  =  False\n",
    "        False and False =  False                             \n",
    "        True and True   =  True\n",
    "        not True        =  False                                    \n",
    "        not False       =  True\n",
    "                               "
   ]
  },
  {
   "cell_type": "markdown",
   "id": "bef52206",
   "metadata": {},
   "source": [
    "Q4 :  What are the values of the following expressions?\n",
    "     (5 > 4) and (3 == 5)\n",
    "     not (5 > 4)\n",
    "     (5 > 4) or (3 == 5)\n",
    "     not ((5 > 4) or (3 == 5))\n",
    "     (True and True) and (True == False)\n",
    "     (not False) or (not True)"
   ]
  },
  {
   "cell_type": "markdown",
   "id": "f1b52781",
   "metadata": {},
   "source": [
    "Ans4 : False\n",
    "       False\n",
    "       True\n",
    "       False\n",
    "       False\n",
    "       True"
   ]
  },
  {
   "cell_type": "markdown",
   "id": "30440c74",
   "metadata": {},
   "source": [
    "Q5 :   What are the six comparison operators?"
   ]
  },
  {
   "cell_type": "markdown",
   "id": "01d1c527",
   "metadata": {},
   "source": [
    "Ans5 : = , != , < , > , <= , >="
   ]
  },
  {
   "cell_type": "markdown",
   "id": "6e24c17c",
   "metadata": {},
   "source": [
    "Q6 :   How do you tell the difference between the equal to and assignment operators?Describe a\n",
    "       condition and when you would use one."
   ]
  },
  {
   "cell_type": "markdown",
   "id": "25976d4c",
   "metadata": {},
   "source": [
    "Ans6 : == operator is used when you want to compare two values and assignment operator = , \n",
    "       is used when u want to assign a value to a variable."
   ]
  },
  {
   "cell_type": "markdown",
   "id": "45705291",
   "metadata": {},
   "source": [
    "Q7 : Identify the three blocks in this code:\n",
    "     spam = 0\n",
    "     if spam == 10:\n",
    "     print('eggs')\n",
    "     if spam > 5:\n",
    "     print('bacon')\n",
    "     else:\n",
    "     print('ham')\n",
    "     print('spam')\n",
    "     print('spam')"
   ]
  },
  {
   "cell_type": "markdown",
   "id": "a2eb05d1",
   "metadata": {},
   "source": [
    "Ans7: \n",
    "spam = 0\n",
    "if spam ==10:\n",
    "        print(\"eggs\")\n",
    "if spam > 5:\n",
    "          print(\"bacon\")\n",
    "else:\n",
    "    print(\"ham\")\n",
    "    print(\"spam\")"
   ]
  },
  {
   "cell_type": "markdown",
   "id": "7415d7bb",
   "metadata": {},
   "source": [
    "Q8 : Write code that prints Hello if 1 is stored in spam, prints Howdy if 2 is stored in spam,\n",
    "     and prints Greetings! if anything else is stored in spam."
   ]
  },
  {
   "cell_type": "markdown",
   "id": "6a25da08",
   "metadata": {},
   "source": [
    "Ans8 : if spam ==1:\n",
    "        print(\"Hello\")\n",
    "       if spam == 2:\n",
    "        print(\"Howdy\")\n",
    "       else:\n",
    "        print(\"Greetings!\")"
   ]
  },
  {
   "cell_type": "markdown",
   "id": "9624a878",
   "metadata": {},
   "source": [
    "Q9 : If your programme is stuck in an endless loop, what keys you’ll press?"
   ]
  },
  {
   "cell_type": "code",
   "execution_count": null,
   "id": "7b54af38",
   "metadata": {},
   "outputs": [],
   "source": [
    "Ans9 : CTRL-c"
   ]
  },
  {
   "cell_type": "markdown",
   "id": "85c02ad8",
   "metadata": {},
   "source": [
    "Q10 : How can you tell the difference between break and continue?"
   ]
  },
  {
   "cell_type": "code",
   "execution_count": null,
   "id": "fc3453db",
   "metadata": {},
   "outputs": [],
   "source": [
    "Ans10 : "
   ]
  },
  {
   "cell_type": "markdown",
   "id": "5b107e33",
   "metadata": {},
   "source": [
    "Q11 : In a for loop, what is the difference between range(10), range(0, 10), and range(0, 10, 1)?"
   ]
  },
  {
   "cell_type": "markdown",
   "id": "0deef5a1",
   "metadata": {},
   "source": [
    "Ans11 : Exactly all the range() function do the same.In which range(10)calls the (0 to 10)excluding \n",
    "        upper bound and range(0, 10)means tht loops star form 0 to 10 exclude UB and range(0, 10 ,1)\n",
    "        means that loop start from 0 to 10 and the jump size to increase the loop on each iteration."
   ]
  },
  {
   "cell_type": "markdown",
   "id": "3edc8855",
   "metadata": {},
   "source": [
    "Q12 : Write a short program that prints the numbers 1 to 10 using a for loop. Then write an                 equivalent program that prints the numbers 1 to 10 using a while loop."
   ]
  },
  {
   "cell_type": "markdown",
   "id": "dd42e903",
   "metadata": {},
   "source": [
    "Ans12:\n",
    "for i in range(0 ,10):\n",
    "        print(i)\n",
    "        \n",
    "        \n",
    "        \n",
    "i = 1\n",
    "while i<=10:\n",
    "   print(i)\n",
    " i = i+1"
   ]
  },
  {
   "cell_type": "markdown",
   "id": "d2a67b19",
   "metadata": {},
   "source": [
    "Q13 : If you had a function named bacon() inside a module named spam, how would you call it after\n",
    "      importing spam?"
   ]
  },
  {
   "cell_type": "code",
   "execution_count": null,
   "id": "e4543414",
   "metadata": {},
   "outputs": [],
   "source": [
    "Ans13 : spam.bacon()\n",
    "    \n",
    "        "
   ]
  }
 ],
 "metadata": {
  "kernelspec": {
   "display_name": "Python 3 (ipykernel)",
   "language": "python",
   "name": "python3"
  },
  "language_info": {
   "codemirror_mode": {
    "name": "ipython",
    "version": 3
   },
   "file_extension": ".py",
   "mimetype": "text/x-python",
   "name": "python",
   "nbconvert_exporter": "python",
   "pygments_lexer": "ipython3",
   "version": "3.9.12"
  }
 },
 "nbformat": 4,
 "nbformat_minor": 5
}
